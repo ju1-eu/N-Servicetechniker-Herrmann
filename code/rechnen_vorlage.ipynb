{
 "cells": [
  {
   "cell_type": "markdown",
   "metadata": {},
   "source": [
    "# FM Nr. x Übungsaufgaben\n",
    "\n",
    "## x Übung 1"
   ]
  },
  {
   "cell_type": "code",
   "execution_count": null,
   "metadata": {},
   "outputs": [],
   "source": [
    "import math as ma\n",
    "import numpy as np\n",
    "# round(Zahl, Stellen))# 4 Stellen nach Komma runden\n",
    "# print(\"l = \", round(l, 4), \"m\")\n",
    "# Potenz: 2**3 = 2^3\n",
    "# Wissenschaftliche Schreibweise\n",
    "# Exponentialschreibweise: \\num{2,67e-03} => 2.67 x 10^-3\n",
    "# Pfeil: \\curvearrowright  oder \\to\n",
    "# Mathemodus: https://katex.org/docs/supported.html\n",
    "#zahl_1 = float(0.0003648) # Ohm = 0.3648 mOhm = 0.0003648 Ohm = 3.648e-04 Ohm \n",
    "#print(np.format_float_scientific(zahl_1, precision = 4, exp_digits=2))\n",
    "#zahl_2 = float(2.6667e-03) # Ohm = 2.666666 mOhm = 0.002666666 Ohm = 2.6667e-03 Ohm\n",
    "#print(np.format_float_scientific(zahl_2, precision = 4, exp_digits=2))\n",
    "# Schleife: von 1 bis 10 \n",
    "#for i in range (1,11,1):\n",
    "#    print(i*i)\n",
    "# Terminal: jupyter notebook"
   ]
  },
  {
   "cell_type": "code",
   "execution_count": null,
   "metadata": {},
   "outputs": [],
   "source": [
    "# Aufgabe 1\n",
    "# geg:\n",
    "\n",
    "# ges: \n",
    "# Formel:\n",
    "\n",
    "# Ausgabe: print(\"U =\", round(U, 4), \"V\")\n",
    "\n",
    "# Lösung:\n",
    "# "
   ]
  }
 ],
 "metadata": {
  "interpreter": {
   "hash": "d88b4992e5b06b322ead3277a6c0c22aea73de159b15016e3d5eb1aecc84f355"
  },
  "kernelspec": {
   "display_name": "Python 3",
   "language": "python",
   "name": "python3"
  },
  "language_info": {
   "codemirror_mode": {
    "name": "ipython",
    "version": 3
   },
   "file_extension": ".py",
   "mimetype": "text/x-python",
   "name": "python",
   "nbconvert_exporter": "python",
   "pygments_lexer": "ipython3",
   "version": "3.8.8"
  }
 },
 "nbformat": 4,
 "nbformat_minor": 2
}
